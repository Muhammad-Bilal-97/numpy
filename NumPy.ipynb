{
 "cells": [
  {
   "cell_type": "code",
   "execution_count": null,
   "id": "536b232d",
   "metadata": {},
   "outputs": [],
   "source": [
    "import numpy as np"
   ]
  },
  {
   "cell_type": "code",
   "execution_count": null,
   "id": "aab7ca9a",
   "metadata": {},
   "outputs": [],
   "source": [
    "a = 5"
   ]
  },
  {
   "cell_type": "code",
   "execution_count": null,
   "id": "4e268229",
   "metadata": {},
   "outputs": [],
   "source": [
    "b = [1,2,3]"
   ]
  },
  {
   "cell_type": "code",
   "execution_count": null,
   "id": "9768a94a",
   "metadata": {},
   "outputs": [],
   "source": [
    "c = [[1,2,3], [4,5,6], [7,8,9]]"
   ]
  },
  {
   "cell_type": "code",
   "execution_count": null,
   "id": "80334bce",
   "metadata": {},
   "outputs": [],
   "source": [
    "vector = np.array(b)"
   ]
  },
  {
   "cell_type": "code",
   "execution_count": null,
   "id": "482b45ea",
   "metadata": {},
   "outputs": [],
   "source": [
    "vector"
   ]
  },
  {
   "cell_type": "code",
   "execution_count": null,
   "id": "c0940482",
   "metadata": {},
   "outputs": [],
   "source": [
    "matrix = np.array(c)"
   ]
  },
  {
   "cell_type": "code",
   "execution_count": null,
   "id": "7cfdc57e",
   "metadata": {},
   "outputs": [],
   "source": [
    "matrix"
   ]
  },
  {
   "cell_type": "code",
   "execution_count": null,
   "id": "b342b2cf",
   "metadata": {},
   "outputs": [],
   "source": [
    "x= np.arange(0,10)"
   ]
  },
  {
   "cell_type": "code",
   "execution_count": null,
   "id": "5d68643a",
   "metadata": {},
   "outputs": [],
   "source": [
    "x"
   ]
  },
  {
   "cell_type": "code",
   "execution_count": null,
   "id": "53e63a35",
   "metadata": {},
   "outputs": [],
   "source": [
    "np.zeros(3)"
   ]
  },
  {
   "cell_type": "code",
   "execution_count": null,
   "id": "13834542",
   "metadata": {},
   "outputs": [],
   "source": [
    "np.ones(3)"
   ]
  },
  {
   "cell_type": "code",
   "execution_count": null,
   "id": "be10f2ac",
   "metadata": {},
   "outputs": [],
   "source": [
    "np.zeros((3,3))"
   ]
  },
  {
   "cell_type": "code",
   "execution_count": null,
   "id": "b4125142",
   "metadata": {},
   "outputs": [],
   "source": [
    "np.ones((3,3))"
   ]
  },
  {
   "cell_type": "code",
   "execution_count": null,
   "id": "60f1caa6",
   "metadata": {},
   "outputs": [],
   "source": [
    "np.eye(4)"
   ]
  },
  {
   "cell_type": "code",
   "execution_count": null,
   "id": "67ba5cd6",
   "metadata": {},
   "outputs": [],
   "source": [
    "np.random.rand(5)"
   ]
  },
  {
   "cell_type": "code",
   "execution_count": null,
   "id": "5107bf7f",
   "metadata": {},
   "outputs": [],
   "source": [
    "np.random.rand(5,5)"
   ]
  },
  {
   "cell_type": "code",
   "execution_count": null,
   "id": "82e23018",
   "metadata": {},
   "outputs": [],
   "source": [
    "np.random.randn(2)"
   ]
  },
  {
   "cell_type": "code",
   "execution_count": null,
   "id": "6ee00304",
   "metadata": {},
   "outputs": [],
   "source": [
    "np.random.randint(10,100)"
   ]
  },
  {
   "cell_type": "code",
   "execution_count": null,
   "id": "d22e8f2b",
   "metadata": {},
   "outputs": [],
   "source": [
    "np.random.randint(10,100,20)"
   ]
  },
  {
   "cell_type": "code",
   "execution_count": null,
   "id": "ea8d17b1",
   "metadata": {},
   "outputs": [],
   "source": [
    "random_array = np.random.randint(0,50,10)"
   ]
  },
  {
   "cell_type": "code",
   "execution_count": null,
   "id": "89d0e6bb",
   "metadata": {},
   "outputs": [],
   "source": [
    "random_array"
   ]
  },
  {
   "cell_type": "code",
   "execution_count": null,
   "id": "9623e81f",
   "metadata": {},
   "outputs": [],
   "source": [
    "random_array.reshape(2,5)"
   ]
  },
  {
   "cell_type": "code",
   "execution_count": null,
   "id": "5a55aa78",
   "metadata": {},
   "outputs": [],
   "source": [
    "random_array"
   ]
  },
  {
   "cell_type": "code",
   "execution_count": null,
   "id": "c163a852",
   "metadata": {},
   "outputs": [],
   "source": [
    "random_array.min()"
   ]
  },
  {
   "cell_type": "code",
   "execution_count": null,
   "id": "1767a088",
   "metadata": {},
   "outputs": [],
   "source": [
    "random_array.max()"
   ]
  },
  {
   "cell_type": "code",
   "execution_count": null,
   "id": "ee5a8722",
   "metadata": {},
   "outputs": [],
   "source": [
    "random_array.argmax()"
   ]
  },
  {
   "cell_type": "code",
   "execution_count": null,
   "id": "7f16e034",
   "metadata": {},
   "outputs": [],
   "source": [
    "random_array.argmin()"
   ]
  },
  {
   "cell_type": "code",
   "execution_count": null,
   "id": "e4496b4a",
   "metadata": {},
   "outputs": [],
   "source": [
    "random_array.shape"
   ]
  },
  {
   "cell_type": "code",
   "execution_count": null,
   "id": "9f00cd31",
   "metadata": {},
   "outputs": [],
   "source": [
    "# from numpy.random import randint\n",
    "\n",
    "# randint(2,10)"
   ]
  },
  {
   "cell_type": "markdown",
   "id": "2c4ef6fc",
   "metadata": {},
   "source": [
    "# Slicing"
   ]
  },
  {
   "cell_type": "code",
   "execution_count": null,
   "id": "cadffd17",
   "metadata": {},
   "outputs": [],
   "source": [
    "arr = np.arange(20,31)"
   ]
  },
  {
   "cell_type": "code",
   "execution_count": null,
   "id": "7624913c",
   "metadata": {},
   "outputs": [],
   "source": [
    "arr"
   ]
  },
  {
   "cell_type": "code",
   "execution_count": null,
   "id": "8ade9ffc",
   "metadata": {},
   "outputs": [],
   "source": [
    "arr[3]"
   ]
  },
  {
   "cell_type": "code",
   "execution_count": null,
   "id": "93b84772",
   "metadata": {},
   "outputs": [],
   "source": [
    "arr[0]"
   ]
  },
  {
   "cell_type": "code",
   "execution_count": null,
   "id": "7f6be5ff",
   "metadata": {},
   "outputs": [],
   "source": [
    "arr[1:4]"
   ]
  },
  {
   "cell_type": "code",
   "execution_count": null,
   "id": "1def27c1",
   "metadata": {},
   "outputs": [],
   "source": [
    "arr[:6]"
   ]
  },
  {
   "cell_type": "code",
   "execution_count": null,
   "id": "bf8b920b",
   "metadata": {},
   "outputs": [],
   "source": [
    "arr[5:]"
   ]
  },
  {
   "cell_type": "code",
   "execution_count": null,
   "id": "a9f9727c",
   "metadata": {},
   "outputs": [],
   "source": [
    "# Broadcasting"
   ]
  },
  {
   "cell_type": "code",
   "execution_count": null,
   "id": "9deefcb6",
   "metadata": {},
   "outputs": [],
   "source": [
    "arr[5:] = 100"
   ]
  },
  {
   "cell_type": "code",
   "execution_count": null,
   "id": "bd0877cc",
   "metadata": {},
   "outputs": [],
   "source": [
    "arr"
   ]
  },
  {
   "cell_type": "code",
   "execution_count": null,
   "id": "5402b53c",
   "metadata": {},
   "outputs": [],
   "source": [
    "second_arr = np.arange(20,31)"
   ]
  },
  {
   "cell_type": "code",
   "execution_count": null,
   "id": "fe6433bd",
   "metadata": {},
   "outputs": [],
   "source": [
    "second_arr"
   ]
  },
  {
   "cell_type": "code",
   "execution_count": null,
   "id": "f172f89d",
   "metadata": {},
   "outputs": [],
   "source": [
    "second_arr[:]"
   ]
  },
  {
   "cell_type": "code",
   "execution_count": null,
   "id": "2284b295",
   "metadata": {},
   "outputs": [],
   "source": [
    "second_arr_copy = np.copy(second_arr)"
   ]
  },
  {
   "cell_type": "code",
   "execution_count": null,
   "id": "0a2d3f9f",
   "metadata": {},
   "outputs": [],
   "source": [
    "second_arr_copy"
   ]
  },
  {
   "cell_type": "code",
   "execution_count": null,
   "id": "42416467",
   "metadata": {},
   "outputs": [],
   "source": [
    "# slicing 2d array"
   ]
  },
  {
   "cell_type": "code",
   "execution_count": null,
   "id": "71ca8617",
   "metadata": {},
   "outputs": [],
   "source": [
    "array_2d = np.array([[3,4,5], [6,7,8], [9,10,11]])"
   ]
  },
  {
   "cell_type": "code",
   "execution_count": null,
   "id": "36e467af",
   "metadata": {},
   "outputs": [],
   "source": [
    "array_2d"
   ]
  },
  {
   "cell_type": "code",
   "execution_count": null,
   "id": "181edd9e",
   "metadata": {},
   "outputs": [],
   "source": [
    "array_2d[0][1]"
   ]
  },
  {
   "cell_type": "code",
   "execution_count": null,
   "id": "3b231dd3",
   "metadata": {},
   "outputs": [],
   "source": [
    "array_2d[1]"
   ]
  },
  {
   "cell_type": "code",
   "execution_count": null,
   "id": "0c14c8df",
   "metadata": {},
   "outputs": [],
   "source": [
    "array_2d[2]"
   ]
  },
  {
   "cell_type": "code",
   "execution_count": null,
   "id": "b4ed69ae",
   "metadata": {},
   "outputs": [],
   "source": [
    "array_2d[1,1]"
   ]
  },
  {
   "cell_type": "code",
   "execution_count": null,
   "id": "c026a083",
   "metadata": {},
   "outputs": [],
   "source": [
    "array_2d[0,0]"
   ]
  },
  {
   "cell_type": "code",
   "execution_count": null,
   "id": "6fc722a1",
   "metadata": {},
   "outputs": [],
   "source": [
    "array_2d[:2]"
   ]
  },
  {
   "cell_type": "code",
   "execution_count": null,
   "id": "47a31e43",
   "metadata": {},
   "outputs": [],
   "source": [
    "array_2d[:2,1:]"
   ]
  },
  {
   "cell_type": "code",
   "execution_count": null,
   "id": "97d64b0f",
   "metadata": {},
   "outputs": [],
   "source": [
    "arr = np.arange(1,11)"
   ]
  },
  {
   "cell_type": "code",
   "execution_count": null,
   "id": "a3bb36c1",
   "metadata": {},
   "outputs": [],
   "source": [
    "arr"
   ]
  },
  {
   "cell_type": "code",
   "execution_count": null,
   "id": "1a917b26",
   "metadata": {},
   "outputs": [],
   "source": [
    "cond_arr = arr > 5"
   ]
  },
  {
   "cell_type": "code",
   "execution_count": null,
   "id": "605b966a",
   "metadata": {},
   "outputs": [],
   "source": [
    "cond_arr"
   ]
  },
  {
   "cell_type": "code",
   "execution_count": null,
   "id": "fc8ebeb7",
   "metadata": {},
   "outputs": [],
   "source": [
    "arr[cond_arr]"
   ]
  },
  {
   "cell_type": "code",
   "execution_count": null,
   "id": "2a1d5839",
   "metadata": {},
   "outputs": [],
   "source": [
    "arr [arr < 3]"
   ]
  },
  {
   "cell_type": "code",
   "execution_count": null,
   "id": "e0247d71",
   "metadata": {},
   "outputs": [],
   "source": [
    "arr_2d = np.arange(50).reshape(5,10)"
   ]
  },
  {
   "cell_type": "code",
   "execution_count": null,
   "id": "98893123",
   "metadata": {},
   "outputs": [],
   "source": [
    "arr_2d"
   ]
  },
  {
   "cell_type": "code",
   "execution_count": null,
   "id": "e80b56e2",
   "metadata": {},
   "outputs": [],
   "source": [
    "arr_2d[2:4, 4:]"
   ]
  },
  {
   "cell_type": "markdown",
   "id": "528644e8",
   "metadata": {},
   "source": [
    "# NumPy Operations"
   ]
  },
  {
   "cell_type": "code",
   "execution_count": null,
   "id": "10a73810",
   "metadata": {},
   "outputs": [],
   "source": [
    "# array with scalar\n",
    "# array with array\n",
    "# universal array functions"
   ]
  },
  {
   "cell_type": "code",
   "execution_count": null,
   "id": "4be21746",
   "metadata": {},
   "outputs": [],
   "source": [
    "arr = np.arange(0,11)"
   ]
  },
  {
   "cell_type": "code",
   "execution_count": null,
   "id": "7dd66d9e",
   "metadata": {},
   "outputs": [],
   "source": [
    "arr"
   ]
  },
  {
   "cell_type": "code",
   "execution_count": null,
   "id": "f16e47c6",
   "metadata": {},
   "outputs": [],
   "source": [
    "add = arr + arr"
   ]
  },
  {
   "cell_type": "code",
   "execution_count": null,
   "id": "29aaa2a4",
   "metadata": {},
   "outputs": [],
   "source": [
    "add"
   ]
  },
  {
   "cell_type": "code",
   "execution_count": null,
   "id": "f73df813",
   "metadata": {},
   "outputs": [],
   "source": [
    "subtract = arr - arr"
   ]
  },
  {
   "cell_type": "code",
   "execution_count": null,
   "id": "4b504cb2",
   "metadata": {},
   "outputs": [],
   "source": [
    "subtract"
   ]
  },
  {
   "cell_type": "code",
   "execution_count": null,
   "id": "d0efe7b6",
   "metadata": {},
   "outputs": [],
   "source": [
    "scalar = arr + 100"
   ]
  },
  {
   "cell_type": "code",
   "execution_count": null,
   "id": "01b98d4d",
   "metadata": {},
   "outputs": [],
   "source": [
    "scalar"
   ]
  },
  {
   "cell_type": "code",
   "execution_count": null,
   "id": "17110600",
   "metadata": {},
   "outputs": [],
   "source": [
    "arr * arr"
   ]
  },
  {
   "cell_type": "code",
   "execution_count": null,
   "id": "604b907a",
   "metadata": {},
   "outputs": [],
   "source": [
    "arr / 100"
   ]
  },
  {
   "cell_type": "code",
   "execution_count": null,
   "id": "3032d07d",
   "metadata": {},
   "outputs": [],
   "source": [
    "arr / arr"
   ]
  },
  {
   "cell_type": "code",
   "execution_count": null,
   "id": "f5dba7ea",
   "metadata": {},
   "outputs": [],
   "source": [
    "1 / arr"
   ]
  },
  {
   "cell_type": "code",
   "execution_count": null,
   "id": "2876f5f6",
   "metadata": {},
   "outputs": [],
   "source": [
    "arr ** 2"
   ]
  },
  {
   "cell_type": "code",
   "execution_count": null,
   "id": "edbb4f75",
   "metadata": {},
   "outputs": [],
   "source": [
    "# universal array functions"
   ]
  },
  {
   "cell_type": "code",
   "execution_count": null,
   "id": "9bfe28b2",
   "metadata": {},
   "outputs": [],
   "source": [
    "np.log(arr)"
   ]
  },
  {
   "cell_type": "code",
   "execution_count": null,
   "id": "7e4ee8b5",
   "metadata": {},
   "outputs": [],
   "source": [
    "np.sqrt(arr)"
   ]
  },
  {
   "cell_type": "code",
   "execution_count": null,
   "id": "9dd8f4a0",
   "metadata": {},
   "outputs": [],
   "source": [
    "np.sin(arr)"
   ]
  },
  {
   "cell_type": "code",
   "execution_count": null,
   "id": "1b945f12",
   "metadata": {},
   "outputs": [],
   "source": []
  }
 ],
 "metadata": {
  "kernelspec": {
   "display_name": "Python 3 (ipykernel)",
   "language": "python",
   "name": "python3"
  },
  "language_info": {
   "codemirror_mode": {
    "name": "ipython",
    "version": 3
   },
   "file_extension": ".py",
   "mimetype": "text/x-python",
   "name": "python",
   "nbconvert_exporter": "python",
   "pygments_lexer": "ipython3",
   "version": "3.9.7"
  }
 },
 "nbformat": 4,
 "nbformat_minor": 5
}
